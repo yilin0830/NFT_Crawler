{
  "cells": [
    {
      "cell_type": "code",
      "execution_count": null,
      "metadata": {
        "colab": {
          "base_uri": "https://localhost:8080/"
        },
        "id": "oJ3P8U-83CV9",
        "outputId": "d6976ed2-979e-4501-def6-1689122817c4"
      },
      "outputs": [
        {
          "name": "stdout",
          "output_type": "stream",
          "text": [
            "[{'trait_type': 'NODUS', 'value': '11110001000010111101011100011110'}]\n",
            "2022071922\n"
          ]
        }
      ],
      "source": [
        "import requests\n",
        "import json\n",
        "\n",
        "tokenId = 190\n",
        "\n",
        "#print(\"tokenId = \", tokenId)\n",
        "url = \"https://gateway.pinata.cloud/ipfs/QmV7v63ZPS4vms7RYeQahKiCqfBTSP3PNQM4Cqr6UBjzWB/\" + str(tokenId) + \".json\"\n",
        "response = requests.get(url, allow_redirects=True)\n",
        "#print(response.text)\n",
        "\n",
        "j = json.loads(response.text)\n",
        "#print(j)\n",
        "\n",
        "properties=j['attributes']\n",
        "print(properties)\n",
        "#int(properties[value])  \n",
        "birth_day = int(properties[0]['value'],2)-2022013100\n",
        "print(birth_day)"
      ]
    }
  ],
  "metadata": {
    "colab": {
      "collapsed_sections": [],
      "name": "Swag_Sloth.ipynb",
      "provenance": []
    },
    "kernelspec": {
      "display_name": "Python 3",
      "name": "python3"
    },
    "language_info": {
      "name": "python"
    }
  },
  "nbformat": 4,
  "nbformat_minor": 0
}
