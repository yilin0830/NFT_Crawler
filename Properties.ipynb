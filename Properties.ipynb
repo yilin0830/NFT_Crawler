{
 "cells": [
  {
   "cell_type": "code",
   "execution_count": null,
   "metadata": {
    "scrolled": false
   },
   "outputs": [],
   "source": [
    "import requests\n",
    "import json\n",
    "import pandas as pd\n",
    "import time\n",
    "panda_dict = dict()\n",
    "\n",
    "tokenIds = [x for x in range(0, 1000)]\n",
    "for tokenId in tokenIds:\n",
    "    #print(\"tokenId = \", tokenId)\n",
    "    url = \"https://ipfs.io/ipfs/QmYyotg8R3Rj9i4MxCShfm9XyqGBKKbgpER557hedUAwDZ/\" + str(tokenId) + \".json\"\n",
    "    response = requests.get(url, allow_redirects=True)\n",
    "    #print(response.text)\n",
    "\n",
    "    j = json.loads(response.text)\n",
    "    #print(j)\n",
    "    name = j['name']\n",
    "    properties=j['attributes']\n",
    "    #print(properties)\n",
    "     \n",
    "    panda_dict[tokenId]=dict()\n",
    "    panda_dict[tokenId]\n",
    "    for i in range(len(properties)):\n",
    "        panda_dict[tokenId]['name'] = name\n",
    "        panda_dict[tokenId][properties[i]['trait_type']] = properties[i]['value']\n",
    "    time.sleep(20) # 太快會被擋\n",
    "\n",
    "df = pd.DataFrame(panda_dict)\n",
    "df = df.T\n",
    "print(df)\n",
    "df.to_csv(\"panda.csv\")"
   ]
  },
  {
   "cell_type": "code",
   "execution_count": 37,
   "metadata": {},
   "outputs": [
    {
     "data": {
      "text/plain": [
       "[{'trait_type': 'WHITE', 'value': 'white'},\n",
       " {'trait_type': 'BACKGROUND', 'value': 'Cyan 50th anniversary 2'},\n",
       " {'trait_type': 'SKIN', 'value': 'Male Panda'},\n",
       " {'trait_type': 'OCCUPATION', 'value': 'SLEEPYHEAD'}]"
      ]
     },
     "execution_count": 37,
     "metadata": {},
     "output_type": "execute_result"
    }
   ],
   "source": [
    "properties"
   ]
  },
  {
   "cell_type": "code",
   "execution_count": 41,
   "metadata": {},
   "outputs": [
    {
     "data": {
      "text/plain": [
       "{'name': 928,\n",
       " 'description': '1,000 CoE Pandas on the Polygon blockchain for the 50th anniversary. A collection by College of Engineering, National Tsing Hua University, Taiwan.',\n",
       " 'image': 'https://ipfs.io/ipfs/QmY516ssGDJNUk3qZPhtWsxv4guBQLphqKakpPd816jT5c/930.png',\n",
       " 'dna': '8dfc208718a5b5872f95af1d23b5be531c05052e',\n",
       " 'edition': 930,\n",
       " 'date': 1647360831026,\n",
       " 'attributes': [{'trait_type': 'WHITE', 'value': 'white'},\n",
       "  {'trait_type': 'BACKGROUND', 'value': 'Purple 1972~2022 H'},\n",
       "  {'trait_type': 'SKIN', 'value': 'Classic Panda'},\n",
       "  {'trait_type': 'OCCUPATION', 'value': 'OLD BOATMAN'}],\n",
       " 'compiler': 'HashLips Art Engine'}"
      ]
     },
     "execution_count": 41,
     "metadata": {},
     "output_type": "execute_result"
    }
   ],
   "source": [
    "j"
   ]
  },
  {
   "cell_type": "code",
   "execution_count": 44,
   "metadata": {},
   "outputs": [
    {
     "name": "stdout",
     "output_type": "stream",
     "text": [
      "    name  WHITE                              BACKGROUND           SKIN  \\\n",
      "927  927  white  Yellow National Tsing Hua University 4     NTHU Panda   \n",
      "928  928  white                      Purple 1972~2022 H  Classic Panda   \n",
      "929  929  white    Cyan National Tsing Hua University 1     Male Panda   \n",
      "930  930  white                 Blue 50th anniversary 2     Male Panda   \n",
      "931  931  white               Yellow 50th anniversary 3     NTHU Panda   \n",
      "\n",
      "      OCCUPATION  \n",
      "927    SCIENTIST  \n",
      "928  OLD BOATMAN  \n",
      "929      SHERIFF  \n",
      "930      VAMPIRE  \n",
      "931        NINJA  \n"
     ]
    }
   ],
   "source": [
    "df = pd.DataFrame(panda_dict)\n",
    "df = df.T\n",
    "print(df)\n",
    "df.to_csv(\"panda.csv\")"
   ]
  }
 ],
 "metadata": {
  "kernelspec": {
   "display_name": "Python 3",
   "language": "python",
   "name": "python3"
  },
  "language_info": {
   "codemirror_mode": {
    "name": "ipython",
    "version": 3
   },
   "file_extension": ".py",
   "mimetype": "text/x-python",
   "name": "python",
   "nbconvert_exporter": "python",
   "pygments_lexer": "ipython3",
   "version": "3.7.6"
  }
 },
 "nbformat": 4,
 "nbformat_minor": 4
}
